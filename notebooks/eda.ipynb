{
 "metadata": {
  "language_info": {
   "codemirror_mode": {
    "name": "ipython",
    "version": 3
   },
   "file_extension": ".py",
   "mimetype": "text/x-python",
   "name": "python",
   "nbconvert_exporter": "python",
   "pygments_lexer": "ipython3",
   "version": "3.7.7"
  },
  "orig_nbformat": 2,
  "kernelspec": {
   "name": "python377jvsc74a57bd098b0a9b7b4eaaa670588a142fd0a9b87eaafe866f1db4228be72b4211d12040f",
   "display_name": "Python 3.7.7 64-bit ('base': conda)"
  }
 },
 "nbformat": 4,
 "nbformat_minor": 2,
 "cells": [
  {
   "cell_type": "code",
   "execution_count": 14,
   "metadata": {},
   "outputs": [],
   "source": [
    "import os\n",
    "import sys\n",
    "sys.path.insert(0, '../')\n",
    "from utils import load_json\n",
    "from config import CFG"
   ]
  },
  {
   "cell_type": "code",
   "execution_count": 19,
   "metadata": {},
   "outputs": [
    {
     "output_type": "error",
     "ename": "KeyError",
     "evalue": "'SM_CHANNEL_TRAIN'",
     "traceback": [
      "\u001b[0;31m---------------------------------------------------------------------------\u001b[0m",
      "\u001b[0;31mKeyError\u001b[0m                                  Traceback (most recent call last)",
      "\u001b[0;32m<ipython-input-19-0a8da0511b88>\u001b[0m in \u001b[0;36m<module>\u001b[0;34m\u001b[0m\n\u001b[0;32m----> 1\u001b[0;31m \u001b[0mos\u001b[0m\u001b[0;34m.\u001b[0m\u001b[0menviron\u001b[0m\u001b[0;34m[\u001b[0m\u001b[0;34m'SM_CHANNEL_TRAIN'\u001b[0m\u001b[0;34m]\u001b[0m\u001b[0;34m\u001b[0m\u001b[0;34m\u001b[0m\u001b[0m\n\u001b[0m",
      "\u001b[0;32m/opt/conda/lib/python3.7/os.py\u001b[0m in \u001b[0;36m__getitem__\u001b[0;34m(self, key)\u001b[0m\n\u001b[1;32m    679\u001b[0m         \u001b[0;32mexcept\u001b[0m \u001b[0mKeyError\u001b[0m\u001b[0;34m:\u001b[0m\u001b[0;34m\u001b[0m\u001b[0;34m\u001b[0m\u001b[0m\n\u001b[1;32m    680\u001b[0m             \u001b[0;31m# raise KeyError with the original key value\u001b[0m\u001b[0;34m\u001b[0m\u001b[0;34m\u001b[0m\u001b[0;34m\u001b[0m\u001b[0m\n\u001b[0;32m--> 681\u001b[0;31m             \u001b[0;32mraise\u001b[0m \u001b[0mKeyError\u001b[0m\u001b[0;34m(\u001b[0m\u001b[0mkey\u001b[0m\u001b[0;34m)\u001b[0m \u001b[0;32mfrom\u001b[0m \u001b[0;32mNone\u001b[0m\u001b[0;34m\u001b[0m\u001b[0;34m\u001b[0m\u001b[0m\n\u001b[0m\u001b[1;32m    682\u001b[0m         \u001b[0;32mreturn\u001b[0m \u001b[0mself\u001b[0m\u001b[0;34m.\u001b[0m\u001b[0mdecodevalue\u001b[0m\u001b[0;34m(\u001b[0m\u001b[0mvalue\u001b[0m\u001b[0;34m)\u001b[0m\u001b[0;34m\u001b[0m\u001b[0;34m\u001b[0m\u001b[0m\n\u001b[1;32m    683\u001b[0m \u001b[0;34m\u001b[0m\u001b[0m\n",
      "\u001b[0;31mKeyError\u001b[0m: 'SM_CHANNEL_TRAIN'"
     ]
    }
   ],
   "source": [
    "os.environ['SM_CHANNEL_TRAIN']"
   ]
  },
  {
   "cell_type": "code",
   "execution_count": 6,
   "metadata": {},
   "outputs": [],
   "source": [
    "SLOTMETA = '../input/data/train_dataset/slot_meta.json'\n",
    "ONTOLOGY = '../input/data/train_dataset/ontology.json'\n",
    "DIALS = '../input/data/train_dataset/train_dials.json'"
   ]
  },
  {
   "cell_type": "code",
   "execution_count": 7,
   "metadata": {},
   "outputs": [],
   "source": [
    "train_dials = load_json(DIALS)\n",
    "train_ontology = load_json(ONTOLOGY)\n",
    "train_slotmeta = load_json(SLOTMETA)"
   ]
  },
  {
   "cell_type": "code",
   "execution_count": 13,
   "metadata": {},
   "outputs": [
    {
     "output_type": "execute_result",
     "data": {
      "text/plain": [
       "['관광-경치 좋은',\n",
       " '관광-교육적',\n",
       " '관광-도보 가능',\n",
       " '관광-문화 예술',\n",
       " '관광-역사적',\n",
       " '관광-이름',\n",
       " '관광-종류',\n",
       " '관광-주차 가능',\n",
       " '관광-지역',\n",
       " '숙소-가격대',\n",
       " '숙소-도보 가능',\n",
       " '숙소-수영장 유무',\n",
       " '숙소-스파 유무',\n",
       " '숙소-예약 기간',\n",
       " '숙소-예약 명수',\n",
       " '숙소-예약 요일',\n",
       " '숙소-이름',\n",
       " '숙소-인터넷 가능',\n",
       " '숙소-조식 가능',\n",
       " '숙소-종류',\n",
       " '숙소-주차 가능',\n",
       " '숙소-지역',\n",
       " '숙소-헬스장 유무',\n",
       " '숙소-흡연 가능',\n",
       " '식당-가격대',\n",
       " '식당-도보 가능',\n",
       " '식당-야외석 유무',\n",
       " '식당-예약 명수',\n",
       " '식당-예약 시간',\n",
       " '식당-예약 요일',\n",
       " '식당-이름',\n",
       " '식당-인터넷 가능',\n",
       " '식당-종류',\n",
       " '식당-주류 판매',\n",
       " '식당-주차 가능',\n",
       " '식당-지역',\n",
       " '식당-흡연 가능',\n",
       " '지하철-도착지',\n",
       " '지하철-출발 시간',\n",
       " '지하철-출발지',\n",
       " '택시-도착 시간',\n",
       " '택시-도착지',\n",
       " '택시-종류',\n",
       " '택시-출발 시간',\n",
       " '택시-출발지']"
      ]
     },
     "metadata": {},
     "execution_count": 13
    }
   ],
   "source": [
    "train_slotmeta"
   ]
  },
  {
   "source": [
    "# Dialogues"
   ],
   "cell_type": "markdown",
   "metadata": {}
  },
  {
   "cell_type": "code",
   "execution_count": 10,
   "metadata": {},
   "outputs": [
    {
     "output_type": "execute_result",
     "data": {
      "text/plain": [
       "7000"
      ]
     },
     "metadata": {},
     "execution_count": 10
    }
   ],
   "source": [
    "len(train_dials)"
   ]
  },
  {
   "cell_type": "code",
   "execution_count": 11,
   "metadata": {},
   "outputs": [
    {
     "output_type": "execute_result",
     "data": {
      "text/plain": [
       "{'dialogue_idx': 'snowy-hat-8324:관광_식당_11',\n",
       " 'domains': ['관광', '식당'],\n",
       " 'dialogue': [{'role': 'user',\n",
       "   'text': '서울 중앙에 있는 박물관을 찾아주세요',\n",
       "   'state': ['관광-종류-박물관', '관광-지역-서울 중앙']},\n",
       "  {'role': 'sys',\n",
       "   'text': '안녕하세요. 문화역서울 284은 어떠신가요? 평점도 4점으로 방문객들에게 좋은 평가를 받고 있습니다.'},\n",
       "  {'role': 'user',\n",
       "   'text': '좋네요 거기 평점은 말해주셨구 전화번호가 어떻게되나요?',\n",
       "   'state': ['관광-종류-박물관', '관광-지역-서울 중앙', '관광-이름-문화역서울 284']},\n",
       "  {'role': 'sys', 'text': '전화번호는 983880764입니다. 더 필요하신 게 있으실까요?'},\n",
       "  {'role': 'user',\n",
       "   'text': '네 관광지와 같은 지역의 한식당을 가고싶은데요 야외석이 있어야되요',\n",
       "   'state': ['관광-종류-박물관',\n",
       "    '관광-지역-서울 중앙',\n",
       "    '관광-이름-문화역서울 284',\n",
       "    '식당-지역-서울 중앙',\n",
       "    '식당-종류-한식당',\n",
       "    '식당-야외석 유무-yes']},\n",
       "  {'role': 'sys', 'text': '생각하고 계신 가격대가 있으신가요?'},\n",
       "  {'role': 'user',\n",
       "   'text': '음.. 저렴한 가격대에 있나요?',\n",
       "   'state': ['관광-종류-박물관',\n",
       "    '관광-지역-서울 중앙',\n",
       "    '관광-이름-문화역서울 284',\n",
       "    '식당-가격대-저렴',\n",
       "    '식당-지역-서울 중앙',\n",
       "    '식당-종류-한식당',\n",
       "    '식당-야외석 유무-yes']},\n",
       "  {'role': 'sys', 'text': '죄송하지만 저렴한 가격대에는 없으시네요.'},\n",
       "  {'role': 'user',\n",
       "   'text': '그럼 비싼 가격대로 다시 찾아주세요',\n",
       "   'state': ['관광-종류-박물관',\n",
       "    '관광-지역-서울 중앙',\n",
       "    '관광-이름-문화역서울 284',\n",
       "    '식당-가격대-비싼',\n",
       "    '식당-지역-서울 중앙',\n",
       "    '식당-종류-한식당',\n",
       "    '식당-야외석 유무-yes']},\n",
       "  {'role': 'sys', 'text': '외계인의맛집은 어떠신가요? 대표 메뉴는 한정식입니다.'},\n",
       "  {'role': 'user',\n",
       "   'text': '좋습니당 토요일 18:00에 1명 예약가능한가요?',\n",
       "   'state': ['관광-종류-박물관',\n",
       "    '관광-지역-서울 중앙',\n",
       "    '관광-이름-문화역서울 284',\n",
       "    '식당-가격대-비싼',\n",
       "    '식당-지역-서울 중앙',\n",
       "    '식당-종류-한식당',\n",
       "    '식당-야외석 유무-yes',\n",
       "    '식당-예약 요일-토요일',\n",
       "    '식당-예약 시간-18:00',\n",
       "    '식당-예약 명수-1',\n",
       "    '식당-이름-외계인의맛집']},\n",
       "  {'role': 'sys', 'text': '가능합니다. 예약도와드릴까요?'},\n",
       "  {'role': 'user',\n",
       "   'text': '넹 거기 주류는 판매하나요?주차는 가능한가요?',\n",
       "   'state': ['관광-종류-박물관',\n",
       "    '관광-지역-서울 중앙',\n",
       "    '관광-이름-문화역서울 284',\n",
       "    '식당-가격대-비싼',\n",
       "    '식당-지역-서울 중앙',\n",
       "    '식당-종류-한식당',\n",
       "    '식당-야외석 유무-yes',\n",
       "    '식당-예약 요일-토요일',\n",
       "    '식당-예약 시간-18:00',\n",
       "    '식당-예약 명수-1',\n",
       "    '식당-이름-외계인의맛집']},\n",
       "  {'role': 'sys', 'text': '주류는 판매하고 있고 주차도 가능합니다. 더 궁금하신 점 있으신가요?'},\n",
       "  {'role': 'user',\n",
       "   'text': '아니용',\n",
       "   'state': ['관광-종류-박물관',\n",
       "    '관광-지역-서울 중앙',\n",
       "    '관광-이름-문화역서울 284',\n",
       "    '식당-가격대-비싼',\n",
       "    '식당-지역-서울 중앙',\n",
       "    '식당-종류-한식당',\n",
       "    '식당-야외석 유무-yes',\n",
       "    '식당-예약 요일-토요일',\n",
       "    '식당-예약 시간-18:00',\n",
       "    '식당-예약 명수-1',\n",
       "    '식당-이름-외계인의맛집']},\n",
       "  {'role': 'sys', 'text': '감사합니다. 즐거운 여행되세요.'}]}"
      ]
     },
     "metadata": {},
     "execution_count": 11
    }
   ],
   "source": [
    "train_dials[0]"
   ]
  }
 ]
}