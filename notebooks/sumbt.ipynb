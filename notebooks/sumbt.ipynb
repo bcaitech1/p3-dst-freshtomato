{
 "metadata": {
  "language_info": {
   "codemirror_mode": {
    "name": "ipython",
    "version": 3
   },
   "file_extension": ".py",
   "mimetype": "text/x-python",
   "name": "python",
   "nbconvert_exporter": "python",
   "pygments_lexer": "ipython3",
   "version": "3.7.7"
  },
  "orig_nbformat": 2,
  "kernelspec": {
   "name": "python377jvsc74a57bd098b0a9b7b4eaaa670588a142fd0a9b87eaafe866f1db4228be72b4211d12040f",
   "display_name": "Python 3.7.7 64-bit ('base': conda)"
  }
 },
 "nbformat": 4,
 "nbformat_minor": 2,
 "cells": [
  {
   "cell_type": "code",
   "execution_count": 2,
   "metadata": {},
   "outputs": [],
   "source": [
    "import json\n",
    "import sys\n",
    "sys.path.insert(0, '../')\n",
    "\n",
    "from transformers import BertTokenizer\n",
    "from data_utils import get_examples_from_dialogue\n",
    "from utils import load_json\n"
   ]
  },
  {
   "cell_type": "code",
   "execution_count": 3,
   "metadata": {},
   "outputs": [],
   "source": [
    "SLOTMETA = '../input/data/train_dataset/slot_meta.json'\n",
    "ONTOLOGY = '../input/data/train_dataset/ontology.json'\n",
    "DIALS = '../input/data/train_dataset/train_dials.json'"
   ]
  },
  {
   "cell_type": "code",
   "execution_count": 5,
   "metadata": {},
   "outputs": [],
   "source": [
    "slotmeta = load_json(SLOTMETA)\n",
    "ontology = load_json(ONTOLOGY)\n",
    "dials = load_json(DIALS)"
   ]
  },
  {
   "cell_type": "code",
   "execution_count": 8,
   "metadata": {},
   "outputs": [
    {
     "output_type": "execute_result",
     "data": {
      "text/plain": [
       "{'dialogue_idx': 'snowy-hat-8324:관광_식당_11',\n",
       " 'domains': ['관광', '식당'],\n",
       " 'dialogue': [{'role': 'user',\n",
       "   'text': '서울 중앙에 있는 박물관을 찾아주세요',\n",
       "   'state': ['관광-종류-박물관', '관광-지역-서울 중앙']},\n",
       "  {'role': 'sys',\n",
       "   'text': '안녕하세요. 문화역서울 284은 어떠신가요? 평점도 4점으로 방문객들에게 좋은 평가를 받고 있습니다.'},\n",
       "  {'role': 'user',\n",
       "   'text': '좋네요 거기 평점은 말해주셨구 전화번호가 어떻게되나요?',\n",
       "   'state': ['관광-종류-박물관', '관광-지역-서울 중앙', '관광-이름-문화역서울 284']},\n",
       "  {'role': 'sys', 'text': '전화번호는 983880764입니다. 더 필요하신 게 있으실까요?'},\n",
       "  {'role': 'user',\n",
       "   'text': '네 관광지와 같은 지역의 한식당을 가고싶은데요 야외석이 있어야되요',\n",
       "   'state': ['관광-종류-박물관',\n",
       "    '관광-지역-서울 중앙',\n",
       "    '관광-이름-문화역서울 284',\n",
       "    '식당-지역-서울 중앙',\n",
       "    '식당-종류-한식당',\n",
       "    '식당-야외석 유무-yes']},\n",
       "  {'role': 'sys', 'text': '생각하고 계신 가격대가 있으신가요?'},\n",
       "  {'role': 'user',\n",
       "   'text': '음.. 저렴한 가격대에 있나요?',\n",
       "   'state': ['관광-종류-박물관',\n",
       "    '관광-지역-서울 중앙',\n",
       "    '관광-이름-문화역서울 284',\n",
       "    '식당-가격대-저렴',\n",
       "    '식당-지역-서울 중앙',\n",
       "    '식당-종류-한식당',\n",
       "    '식당-야외석 유무-yes']},\n",
       "  {'role': 'sys', 'text': '죄송하지만 저렴한 가격대에는 없으시네요.'},\n",
       "  {'role': 'user',\n",
       "   'text': '그럼 비싼 가격대로 다시 찾아주세요',\n",
       "   'state': ['관광-종류-박물관',\n",
       "    '관광-지역-서울 중앙',\n",
       "    '관광-이름-문화역서울 284',\n",
       "    '식당-가격대-비싼',\n",
       "    '식당-지역-서울 중앙',\n",
       "    '식당-종류-한식당',\n",
       "    '식당-야외석 유무-yes']},\n",
       "  {'role': 'sys', 'text': '외계인의맛집은 어떠신가요? 대표 메뉴는 한정식입니다.'},\n",
       "  {'role': 'user',\n",
       "   'text': '좋습니당 토요일 18:00에 1명 예약가능한가요?',\n",
       "   'state': ['관광-종류-박물관',\n",
       "    '관광-지역-서울 중앙',\n",
       "    '관광-이름-문화역서울 284',\n",
       "    '식당-가격대-비싼',\n",
       "    '식당-지역-서울 중앙',\n",
       "    '식당-종류-한식당',\n",
       "    '식당-야외석 유무-yes',\n",
       "    '식당-예약 요일-토요일',\n",
       "    '식당-예약 시간-18:00',\n",
       "    '식당-예약 명수-1',\n",
       "    '식당-이름-외계인의맛집']},\n",
       "  {'role': 'sys', 'text': '가능합니다. 예약도와드릴까요?'},\n",
       "  {'role': 'user',\n",
       "   'text': '넹 거기 주류는 판매하나요?주차는 가능한가요?',\n",
       "   'state': ['관광-종류-박물관',\n",
       "    '관광-지역-서울 중앙',\n",
       "    '관광-이름-문화역서울 284',\n",
       "    '식당-가격대-비싼',\n",
       "    '식당-지역-서울 중앙',\n",
       "    '식당-종류-한식당',\n",
       "    '식당-야외석 유무-yes',\n",
       "    '식당-예약 요일-토요일',\n",
       "    '식당-예약 시간-18:00',\n",
       "    '식당-예약 명수-1',\n",
       "    '식당-이름-외계인의맛집']},\n",
       "  {'role': 'sys', 'text': '주류는 판매하고 있고 주차도 가능합니다. 더 궁금하신 점 있으신가요?'},\n",
       "  {'role': 'user',\n",
       "   'text': '아니용',\n",
       "   'state': ['관광-종류-박물관',\n",
       "    '관광-지역-서울 중앙',\n",
       "    '관광-이름-문화역서울 284',\n",
       "    '식당-가격대-비싼',\n",
       "    '식당-지역-서울 중앙',\n",
       "    '식당-종류-한식당',\n",
       "    '식당-야외석 유무-yes',\n",
       "    '식당-예약 요일-토요일',\n",
       "    '식당-예약 시간-18:00',\n",
       "    '식당-예약 명수-1',\n",
       "    '식당-이름-외계인의맛집']},\n",
       "  {'role': 'sys', 'text': '감사합니다. 즐거운 여행되세요.'}]}"
      ]
     },
     "metadata": {},
     "execution_count": 8
    }
   ],
   "source": [
    "dials[0]"
   ]
  }
 ]
}